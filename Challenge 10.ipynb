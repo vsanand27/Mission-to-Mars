{
 "cells": [
  {
   "cell_type": "markdown",
   "metadata": {},
   "source": [
    "# Challenge to be turned in April\n",
    "\n",
    "\n",
    "\n",
    "Admin  7:52 AM\n",
    "Hi Vick, thanks for letting me know. I hope all is well with your family now.\n",
    "I will allow you to submit the Module 10 assignment late, but please submit a blank \"text entry\" assignment saying you'll come back. This will still unlock the next module for you and you can always resubmit assignments"
   ]
  },
  {
   "cell_type": "code",
   "execution_count": null,
   "metadata": {},
   "outputs": [],
   "source": []
  }
 ],
 "metadata": {
  "kernelspec": {
   "display_name": "PythonData",
   "language": "python",
   "name": "pythondata"
  },
  "language_info": {
   "codemirror_mode": {
    "name": "ipython",
    "version": 3
   },
   "file_extension": ".py",
   "mimetype": "text/x-python",
   "name": "python",
   "nbconvert_exporter": "python",
   "pygments_lexer": "ipython3",
   "version": "3.7.6"
  }
 },
 "nbformat": 4,
 "nbformat_minor": 2
}
